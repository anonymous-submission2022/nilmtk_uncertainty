{
 "cells": [
  {
   "cell_type": "markdown",
   "metadata": {},
   "source": [
    "# Importing Libraries and predictions"
   ]
  },
  {
   "cell_type": "code",
   "execution_count": 1,
   "metadata": {},
   "outputs": [],
   "source": [
    "import os\n",
    "os.chdir(\"../../\")"
   ]
  },
  {
   "cell_type": "code",
   "execution_count": 2,
   "metadata": {},
   "outputs": [],
   "source": [
    "import pandas as pd\n",
    "import matplotlib.pyplot as plt\n",
    "import seaborn as sns\n",
    "import jax\n",
    "import jax.numpy as jnp\n",
    "from utilities import plot,errors,recalibration\n",
    "from datetime import datetime\n",
    "\n",
    "import tensorflow_probability.substrates.jax as tfp\n",
    "dist = tfp.distributions\n",
    "import matplotlib.lines as mlines\n",
    "import matplotlib.patches as mpatches"
   ]
  },
  {
   "cell_type": "code",
   "execution_count": 3,
   "metadata": {},
   "outputs": [],
   "source": [
    "from probml_utils import latexify,savefig, is_latexify_enabled"
   ]
  },
  {
   "cell_type": "code",
   "execution_count": 4,
   "metadata": {},
   "outputs": [
    {
     "name": "stdout",
     "output_type": "stream",
     "text": [
      "env: LATEXIFY=1\n",
      "env: FIG_DIR=figures/\n"
     ]
    }
   ],
   "source": [
    "%env LATEXIFY=1\n",
    "%env FIG_DIR=figures/"
   ]
  },
  {
   "cell_type": "code",
   "execution_count": 5,
   "metadata": {},
   "outputs": [],
   "source": [
    "os.chdir('notebooks/dishwasher')"
   ]
  },
  {
   "cell_type": "code",
   "execution_count": 6,
   "metadata": {},
   "outputs": [],
   "source": [
    "s2p_mlp_training = pd.read_csv('s2p/mlp/training_predictions.csv')\n",
    "s2p_mlp_testing = pd.read_csv('s2p/mlp/testing_predictions.csv')\n",
    "s2p_gmlp_training = pd.read_csv('s2p/gmlp/training_predictions.csv')\n",
    "s2p_gmlp_testing = pd.read_csv('s2p/gmlp/testing_predictions.csv')"
   ]
  },
  {
   "cell_type": "code",
   "execution_count": 7,
   "metadata": {},
   "outputs": [],
   "source": [
    "lstm_mlp_training = pd.read_csv('lstm/mlp/training_predictions.csv')\n",
    "lstm_mlp_testing = pd.read_csv('lstm/mlp/testing_predictions.csv')\n",
    "lstm_gmlp_training = pd.read_csv('lstm/gmlp/training_predictions.csv')\n",
    "lstm_gmlp_testing = pd.read_csv('lstm/gmlp/testing_predictions.csv')"
   ]
  },
  {
   "cell_type": "code",
   "execution_count": 8,
   "metadata": {},
   "outputs": [],
   "source": [
    "s2p_mlp_recal = pd.read_csv('s2p/mlp/recalibration_df.csv')\n",
    "s2p_gmlp_recal = pd.read_csv('s2p/gmlp/recalibration_df.csv')\n",
    "lstm_mlp_recal=pd.read_csv('lstm/mlp/recalibration_df.csv')\n",
    "lstm_gmlp_recal=pd.read_csv('lstm/gmlp/recalibration_df.csv')"
   ]
  },
  {
   "cell_type": "code",
   "execution_count": 9,
   "metadata": {},
   "outputs": [],
   "source": [
    "s2p_mlp_training.columns = map(str.lower, s2p_mlp_training.columns)\n",
    "s2p_mlp_testing.columns = map(str.lower, s2p_mlp_testing.columns)\n",
    "s2p_gmlp_training.columns = map(str.lower, s2p_gmlp_training.columns)\n",
    "s2p_gmlp_testing.columns = map(str.lower, s2p_gmlp_testing.columns)"
   ]
  },
  {
   "cell_type": "code",
   "execution_count": 10,
   "metadata": {},
   "outputs": [],
   "source": [
    "lstm_mlp_training.columns = map(str.lower, lstm_mlp_training.columns)\n",
    "lstm_mlp_testing.columns = map(str.lower, lstm_mlp_testing.columns)\n",
    "lstm_gmlp_training.columns = map(str.lower, lstm_gmlp_training.columns)\n",
    "lstm_gmlp_testing.columns = map(str.lower, lstm_gmlp_testing.columns)"
   ]
  },
  {
   "cell_type": "code",
   "execution_count": 12,
   "metadata": {},
   "outputs": [],
   "source": [
    "os.chdir(\"../../\")"
   ]
  },
  {
   "cell_type": "markdown",
   "metadata": {},
   "source": [
    "# Define Functions"
   ]
  },
  {
   "cell_type": "code",
   "execution_count": 13,
   "metadata": {},
   "outputs": [],
   "source": [
    "def rmse_(dataframe):\n",
    "    def rmse_loss(y,yhat):\n",
    "      return (y-yhat)**2\n",
    "    return jnp.mean(jax.vmap(rmse_loss,in_axes=(0,0))(dataframe['Ideal'].values,dataframe['Counts'].values))\n",
    "def mae_(dataframe):\n",
    "    def mae(y,yhat):\n",
    "      return jnp.abs(y-yhat)\n",
    "    return jnp.mean(jax.vmap(mae,in_axes=(0,0))(dataframe['p'].values,dataframe['p_hat'].values))\n",
    "def mae1(y,yhat):\n",
    "    def mae(y,yhat):\n",
    "      return jnp.abs(y-yhat)\n",
    "    return jnp.mean(jax.vmap(mae,in_axes=(0,0))(y,yhat))\n",
    "def NLL(mean,sigma,y):\n",
    "    def loss_fn(mean, sigma, y):\n",
    "      d = dist.Normal(loc=mean, scale=sigma)\n",
    "      return -d.log_prob(y)\n",
    "    return jnp.mean(jax.vmap(loss_fn, in_axes=(0, 0, 0))(mean, sigma, y))\n",
    "\n",
    "def plot_predictions(y_true,mean,sigma):\n",
    "    idx1 = 0\n",
    "    idx2 = -1\n",
    "    fig, ax = plt.subplots(2, 2, figsize=(18,10))\n",
    "    ax = ax.ravel()\n",
    "    ax[0].plot(y_true[idx1:idx2], label=\"True\")\n",
    "    ax[1].plot(mean[idx1:idx2], label=f\"$\\mu$ Predicted\", color=\"orange\")\n",
    "    ax[2].plot(y_true[idx1:idx2], label=\"True\")\n",
    "    ax[2].plot(mean[idx1:idx2], label=f\"$\\mu$ Predicted\", color=\"orange\")\n",
    "    #ax[3].plot(y_true[idx1:idx2], label=\"True\", alpha=0.7)\n",
    "    ax[3].plot(sigma[idx1:idx2], label=f\"$\\sigma$ Predicted\", color=\"green\")\n",
    "    ax[0].legend(fontsize=15, bbox_to_anchor=(0.5,1))\n",
    "    ax[1].legend(fontsize=15, bbox_to_anchor=(0.5,1))\n",
    "    ax[2].legend(fontsize=15, bbox_to_anchor=(0.5,1))\n",
    "    ax[3].legend(fontsize=15, bbox_to_anchor=(0.5,1))\n",
    "    sns.despine()\n"
   ]
  },
  {
   "cell_type": "code",
   "execution_count": 14,
   "metadata": {},
   "outputs": [],
   "source": [
    "import scipy.stats as st\n",
    "def calibrate(mean, sigma, Y):\n",
    "    df = pd.DataFrame()\n",
    "    df[\"mean\"] = mean\n",
    "    df[\"sigma\"] = sigma\n",
    "    df[\"Y\"] = Y\n",
    "    df[\"z\"] = (df[\"Y\"] - df[\"mean\"]) / df[\"sigma\"]\n",
    "    df[\"perc\"] = st.norm.cdf(df[\"z\"])\n",
    "    k = jnp.arange(0, 1.1, 0.1)\n",
    "    counts = []\n",
    "    df2 = pd.DataFrame()\n",
    "    df2[\"Interval\"] = k\n",
    "    df2[\"Ideal\"] = k\n",
    "    for i in range(0, 11):\n",
    "        l = df[df[\"perc\"] < 0.5 + i * 0.05]\n",
    "        l = l[l[\"perc\"] >= 0.5 - i * 0.05]\n",
    "        counts.append(len(l) / len(df))\n",
    "    df2[\"Counts\"] = counts\n",
    "    return df2"
   ]
  },
  {
   "cell_type": "code",
   "execution_count": 15,
   "metadata": {},
   "outputs": [],
   "source": [
    "def calculate_errors(tr_df, te_df, recal_df):\n",
    "    for i,j in zip(grp, grp2):\n",
    "        try:\n",
    "            q = tr_df[i+'sigma']\n",
    "            tr_nll.append(errors.NLL(tr_df[i+'mean'].values,tr_df[i+'sigma'].values,tr_df['ground truth'].values))\n",
    "            te_nll.append(errors.NLL(te_df[i+'mean'].values,te_df[i+'sigma'].values,te_df['ground truth'].values))\n",
    "            df =  recalibration.find_p_hat(tr_df['ground truth'].values,tr_df[i+'mean'].values,tr_df[i+'sigma'].values) \n",
    "            df=df.reset_index()\n",
    "            tr_ce.append(mae_(df))\n",
    "            df1 =  recalibration.find_p_hat(te_df['ground truth'].values,te_df[i+'mean'].values,te_df[i+'sigma'].values) \n",
    "            df1=df1.reset_index()\n",
    "            te_ce.append(mae_(df1))\n",
    "            te_rce.append(mae1(recal_df['p'].values,recal_df['new_phat'+j].values))\n",
    "            \n",
    "        except KeyError:\n",
    "            # print(KeyError.args)\n",
    "            tr_nll.append(0)\n",
    "            te_nll.append(0)\n",
    "            tr_ce.append(0)\n",
    "            # tr_l2_ce.append(0)\n",
    "            te_ce.append(0)\n",
    "            te_rce.append(0)\n",
    "            # te_l2_ce.append(0)\n",
    "            # pass\n",
    "            \n",
    "\n",
    "def calculate_rmse(tr_df,te_df):\n",
    "    for i in grp:\n",
    "        tr_rmse.append((errors.rmse(tr_df['ground truth'].values,tr_df[i+'mean'].values)))\n",
    "        te_rmse.append((errors.rmse(te_df['ground truth'].values,te_df[i+'mean'].values)))\n",
    "        tr_mae.append((errors.mae(tr_df['ground truth'].values,tr_df[i+'mean'].values)))\n",
    "        te_mae.append((errors.mae(te_df['ground truth'].values,te_df[i+'mean'].values)))\n"
   ]
  },
  {
   "cell_type": "markdown",
   "metadata": {},
   "source": [
    "# Table"
   ]
  },
  {
   "cell_type": "code",
   "execution_count": 16,
   "metadata": {},
   "outputs": [],
   "source": [
    "metric  =pd.DataFrame({'approach':[],'Tr_mae':[],'Te_mae':[],'Tr_rmse':[],'Te_rmse':[],'Tr_nll':[],'Te_nll':[],\n",
    "'Tr_ce':[],'Te_ce':[],'Te_rce':[]})\n",
    "row1 = {'approach':['s2p','s2p+mc','s2p+de','s2p+bs','gs2p','gs2p+mc','gs2p+de','gs2p+bs',\n",
    "'lstm','lstm+mc','lstm+de','lstm+bs','glstm','glstm+mc','glstm+de','glstm+bs']}\n",
    "grp = ['','mc_','de_','bs_']\n",
    "grp2 = ['','_mc','_de','_bs']\n",
    "tr_rmse,te_rmse = [],[]\n",
    "tr_mae,te_mae = [],[]\n",
    "tr_nll,te_nll = [],[]\n",
    "tr_ce,te_ce,te_rce = [],[],[]\n",
    "row1 = pd.DataFrame(row1)\n",
    "metric = pd.concat([metric,row1],ignore_index=True)\n"
   ]
  },
  {
   "cell_type": "code",
   "execution_count": 17,
   "metadata": {},
   "outputs": [
    {
     "name": "stderr",
     "output_type": "stream",
     "text": [
      "WARNING:absl:No GPU/TPU found, falling back to CPU. (Set TF_CPP_MIN_LOG_LEVEL=0 and rerun for more info.)\n"
     ]
    }
   ],
   "source": [
    "calculate_rmse(s2p_mlp_training,s2p_mlp_testing)\n",
    "calculate_rmse(s2p_gmlp_training,s2p_gmlp_testing)\n",
    "calculate_rmse(lstm_mlp_training,lstm_mlp_testing)\n",
    "calculate_rmse(lstm_gmlp_training,lstm_gmlp_testing)\n",
    "calculate_errors(s2p_mlp_training,s2p_mlp_testing,s2p_mlp_recal)\n",
    "calculate_errors(s2p_gmlp_training,s2p_gmlp_testing,s2p_gmlp_recal)\n",
    "calculate_errors(lstm_mlp_training,lstm_mlp_testing,lstm_mlp_recal)\n",
    "calculate_errors(lstm_gmlp_training,lstm_gmlp_testing,lstm_gmlp_recal)\n",
    "metric['Tr_rmse']=tr_rmse\n",
    "metric['Te_rmse']=te_rmse\n",
    "metric['Tr_mae']=tr_mae\n",
    "metric['Te_mae']=te_mae\n",
    "metric['Tr_nll']=tr_nll\n",
    "metric['Te_nll']=te_nll\n",
    "metric['Tr_ce']=tr_ce\n",
    "metric['Te_ce']=te_ce\t\n",
    "metric['Te_rce']=te_rce\t\n",
    "\t"
   ]
  },
  {
   "cell_type": "code",
   "execution_count": 18,
   "metadata": {},
   "outputs": [
    {
     "data": {
      "text/html": [
       "<div>\n",
       "<style scoped>\n",
       "    .dataframe tbody tr th:only-of-type {\n",
       "        vertical-align: middle;\n",
       "    }\n",
       "\n",
       "    .dataframe tbody tr th {\n",
       "        vertical-align: top;\n",
       "    }\n",
       "\n",
       "    .dataframe thead th {\n",
       "        text-align: right;\n",
       "    }\n",
       "</style>\n",
       "<table border=\"1\" class=\"dataframe\">\n",
       "  <thead>\n",
       "    <tr style=\"text-align: right;\">\n",
       "      <th></th>\n",
       "      <th>approach</th>\n",
       "      <th>Tr_mae</th>\n",
       "      <th>Te_mae</th>\n",
       "      <th>Tr_rmse</th>\n",
       "      <th>Te_rmse</th>\n",
       "      <th>Tr_nll</th>\n",
       "      <th>Te_nll</th>\n",
       "      <th>Tr_ce</th>\n",
       "      <th>Te_ce</th>\n",
       "      <th>Te_rce</th>\n",
       "    </tr>\n",
       "  </thead>\n",
       "  <tbody>\n",
       "    <tr>\n",
       "      <th>0</th>\n",
       "      <td>s2p</td>\n",
       "      <td>1.5949644</td>\n",
       "      <td>12.850381</td>\n",
       "      <td>9.507037</td>\n",
       "      <td>88.49798</td>\n",
       "      <td>0</td>\n",
       "      <td>0</td>\n",
       "      <td>0</td>\n",
       "      <td>0</td>\n",
       "      <td>0</td>\n",
       "    </tr>\n",
       "    <tr>\n",
       "      <th>1</th>\n",
       "      <td>s2p+mc</td>\n",
       "      <td>1.6787405</td>\n",
       "      <td>12.976092</td>\n",
       "      <td>10.141713</td>\n",
       "      <td>88.60537</td>\n",
       "      <td>103187350000.0</td>\n",
       "      <td>655179800000000.0</td>\n",
       "      <td>0.4737879</td>\n",
       "      <td>0.48910263</td>\n",
       "      <td>0.4257892</td>\n",
       "    </tr>\n",
       "    <tr>\n",
       "      <th>2</th>\n",
       "      <td>s2p+de</td>\n",
       "      <td>1.0242324</td>\n",
       "      <td>12.469606</td>\n",
       "      <td>5.0128126</td>\n",
       "      <td>78.47943</td>\n",
       "      <td>11.079867</td>\n",
       "      <td>17.20166</td>\n",
       "      <td>0.36361617</td>\n",
       "      <td>0.43721402</td>\n",
       "      <td>0.3740519</td>\n",
       "    </tr>\n",
       "    <tr>\n",
       "      <th>3</th>\n",
       "      <td>s2p+bs</td>\n",
       "      <td>1.0680155</td>\n",
       "      <td>11.494465</td>\n",
       "      <td>5.7702885</td>\n",
       "      <td>80.5317</td>\n",
       "      <td>1.8355067</td>\n",
       "      <td>2.379261</td>\n",
       "      <td>0.2381119</td>\n",
       "      <td>0.058130465</td>\n",
       "      <td>0.21978857</td>\n",
       "    </tr>\n",
       "    <tr>\n",
       "      <th>4</th>\n",
       "      <td>gs2p</td>\n",
       "      <td>12.358407</td>\n",
       "      <td>9.611411</td>\n",
       "      <td>85.69681</td>\n",
       "      <td>92.050865</td>\n",
       "      <td>2.0192528</td>\n",
       "      <td>1.6614789</td>\n",
       "      <td>0.19629565</td>\n",
       "      <td>0.19819646</td>\n",
       "      <td>0.061218884</td>\n",
       "    </tr>\n",
       "    <tr>\n",
       "      <th>5</th>\n",
       "      <td>gs2p+mc</td>\n",
       "      <td>11.727242</td>\n",
       "      <td>9.26328</td>\n",
       "      <td>86.72219</td>\n",
       "      <td>92.75131</td>\n",
       "      <td>1.3942773</td>\n",
       "      <td>1.4390576</td>\n",
       "      <td>0.048937373</td>\n",
       "      <td>0.09212267</td>\n",
       "      <td>0.10116065</td>\n",
       "    </tr>\n",
       "    <tr>\n",
       "      <th>6</th>\n",
       "      <td>gs2p+de</td>\n",
       "      <td>13.327053</td>\n",
       "      <td>9.884347</td>\n",
       "      <td>86.85015</td>\n",
       "      <td>94.226074</td>\n",
       "      <td>2.0506244</td>\n",
       "      <td>2.7752597</td>\n",
       "      <td>0.10574963</td>\n",
       "      <td>0.22023806</td>\n",
       "      <td>0.11414139</td>\n",
       "    </tr>\n",
       "    <tr>\n",
       "      <th>7</th>\n",
       "      <td>gs2p+bs</td>\n",
       "      <td>14.054095</td>\n",
       "      <td>10.218867</td>\n",
       "      <td>89.32169</td>\n",
       "      <td>93.88665</td>\n",
       "      <td>3.580455</td>\n",
       "      <td>3.5430791</td>\n",
       "      <td>0.43095955</td>\n",
       "      <td>0.39950055</td>\n",
       "      <td>0.19234125</td>\n",
       "    </tr>\n",
       "    <tr>\n",
       "      <th>8</th>\n",
       "      <td>lstm</td>\n",
       "      <td>9.06348</td>\n",
       "      <td>12.292727</td>\n",
       "      <td>38.327812</td>\n",
       "      <td>68.59398</td>\n",
       "      <td>0</td>\n",
       "      <td>0</td>\n",
       "      <td>0</td>\n",
       "      <td>0</td>\n",
       "      <td>0</td>\n",
       "    </tr>\n",
       "    <tr>\n",
       "      <th>9</th>\n",
       "      <td>lstm+mc</td>\n",
       "      <td>9.07119</td>\n",
       "      <td>12.295071</td>\n",
       "      <td>38.404182</td>\n",
       "      <td>68.58845</td>\n",
       "      <td>438.46326</td>\n",
       "      <td>1014.72296</td>\n",
       "      <td>0.4617296</td>\n",
       "      <td>0.49255824</td>\n",
       "      <td>0.3962317</td>\n",
       "    </tr>\n",
       "    <tr>\n",
       "      <th>10</th>\n",
       "      <td>lstm+de</td>\n",
       "      <td>7.6176534</td>\n",
       "      <td>10.331644</td>\n",
       "      <td>40.361946</td>\n",
       "      <td>70.25992</td>\n",
       "      <td>65.85506</td>\n",
       "      <td>230.30637</td>\n",
       "      <td>0.09398214</td>\n",
       "      <td>0.29627216</td>\n",
       "      <td>0.21543781</td>\n",
       "    </tr>\n",
       "    <tr>\n",
       "      <th>11</th>\n",
       "      <td>lstm+bs</td>\n",
       "      <td>7.7706513</td>\n",
       "      <td>9.990692</td>\n",
       "      <td>39.7567</td>\n",
       "      <td>68.624756</td>\n",
       "      <td>30.06657</td>\n",
       "      <td>78.11458</td>\n",
       "      <td>0.13108711</td>\n",
       "      <td>0.14220957</td>\n",
       "      <td>0.18962833</td>\n",
       "    </tr>\n",
       "    <tr>\n",
       "      <th>12</th>\n",
       "      <td>glstm</td>\n",
       "      <td>18.130386</td>\n",
       "      <td>12.467072</td>\n",
       "      <td>93.928825</td>\n",
       "      <td>93.13508</td>\n",
       "      <td>3.90551</td>\n",
       "      <td>7.338768</td>\n",
       "      <td>0.24555065</td>\n",
       "      <td>0.31815273</td>\n",
       "      <td>0.13856095</td>\n",
       "    </tr>\n",
       "    <tr>\n",
       "      <th>13</th>\n",
       "      <td>glstm+mc</td>\n",
       "      <td>16.318836</td>\n",
       "      <td>11.1564</td>\n",
       "      <td>93.72324</td>\n",
       "      <td>93.55585</td>\n",
       "      <td>2.1510277</td>\n",
       "      <td>5.278088</td>\n",
       "      <td>0.13529551</td>\n",
       "      <td>0.033004537</td>\n",
       "      <td>0.12998618</td>\n",
       "    </tr>\n",
       "    <tr>\n",
       "      <th>14</th>\n",
       "      <td>glstm+de</td>\n",
       "      <td>20.673306</td>\n",
       "      <td>12.446248</td>\n",
       "      <td>95.07089</td>\n",
       "      <td>91.66796</td>\n",
       "      <td>3.4416387</td>\n",
       "      <td>7.274467</td>\n",
       "      <td>0.22468822</td>\n",
       "      <td>0.32520768</td>\n",
       "      <td>0.15742582</td>\n",
       "    </tr>\n",
       "    <tr>\n",
       "      <th>15</th>\n",
       "      <td>glstm+bs</td>\n",
       "      <td>16.71588</td>\n",
       "      <td>10.997886</td>\n",
       "      <td>91.90408</td>\n",
       "      <td>91.52383</td>\n",
       "      <td>3.4310372</td>\n",
       "      <td>3.2406044</td>\n",
       "      <td>0.3927249</td>\n",
       "      <td>0.35527757</td>\n",
       "      <td>0.15166216</td>\n",
       "    </tr>\n",
       "  </tbody>\n",
       "</table>\n",
       "</div>"
      ],
      "text/plain": [
       "    approach     Tr_mae     Te_mae    Tr_rmse    Te_rmse          Tr_nll  \\\n",
       "0        s2p  1.5949644  12.850381   9.507037   88.49798               0   \n",
       "1     s2p+mc  1.6787405  12.976092  10.141713   88.60537  103187350000.0   \n",
       "2     s2p+de  1.0242324  12.469606  5.0128126   78.47943       11.079867   \n",
       "3     s2p+bs  1.0680155  11.494465  5.7702885    80.5317       1.8355067   \n",
       "4       gs2p  12.358407   9.611411   85.69681  92.050865       2.0192528   \n",
       "5    gs2p+mc  11.727242    9.26328   86.72219   92.75131       1.3942773   \n",
       "6    gs2p+de  13.327053   9.884347   86.85015  94.226074       2.0506244   \n",
       "7    gs2p+bs  14.054095  10.218867   89.32169   93.88665        3.580455   \n",
       "8       lstm    9.06348  12.292727  38.327812   68.59398               0   \n",
       "9    lstm+mc    9.07119  12.295071  38.404182   68.58845       438.46326   \n",
       "10   lstm+de  7.6176534  10.331644  40.361946   70.25992        65.85506   \n",
       "11   lstm+bs  7.7706513   9.990692    39.7567  68.624756        30.06657   \n",
       "12     glstm  18.130386  12.467072  93.928825   93.13508         3.90551   \n",
       "13  glstm+mc  16.318836    11.1564   93.72324   93.55585       2.1510277   \n",
       "14  glstm+de  20.673306  12.446248   95.07089   91.66796       3.4416387   \n",
       "15  glstm+bs   16.71588  10.997886   91.90408   91.52383       3.4310372   \n",
       "\n",
       "               Te_nll        Tr_ce        Te_ce       Te_rce  \n",
       "0                   0            0            0            0  \n",
       "1   655179800000000.0    0.4737879   0.48910263    0.4257892  \n",
       "2            17.20166   0.36361617   0.43721402    0.3740519  \n",
       "3            2.379261    0.2381119  0.058130465   0.21978857  \n",
       "4           1.6614789   0.19629565   0.19819646  0.061218884  \n",
       "5           1.4390576  0.048937373   0.09212267   0.10116065  \n",
       "6           2.7752597   0.10574963   0.22023806   0.11414139  \n",
       "7           3.5430791   0.43095955   0.39950055   0.19234125  \n",
       "8                   0            0            0            0  \n",
       "9          1014.72296    0.4617296   0.49255824    0.3962317  \n",
       "10          230.30637   0.09398214   0.29627216   0.21543781  \n",
       "11           78.11458   0.13108711   0.14220957   0.18962833  \n",
       "12           7.338768   0.24555065   0.31815273   0.13856095  \n",
       "13           5.278088   0.13529551  0.033004537   0.12998618  \n",
       "14           7.274467   0.22468822   0.32520768   0.15742582  \n",
       "15          3.2406044    0.3927249   0.35527757   0.15166216  "
      ]
     },
     "execution_count": 18,
     "metadata": {},
     "output_type": "execute_result"
    }
   ],
   "source": [
    "metric"
   ]
  },
  {
   "cell_type": "markdown",
   "metadata": {},
   "source": [
    "# Analysis"
   ]
  },
  {
   "cell_type": "code",
   "execution_count": 19,
   "metadata": {},
   "outputs": [
    {
     "data": {
      "image/png": "[encoded data removed]",
      "text/plain": [
       "<Figure size 432x288 with 1 Axes>"
      ]
     },
     "metadata": {
      "needs_background": "light"
     },
     "output_type": "display_data"
    }
   ],
   "source": [
    "plt.bar(metric['approach'],metric['Te_mae'])\n",
    "# plt.bar(metric['approach'],metric['Te_l1_ce'])\n",
    "plt.xticks(rotation=90)\n",
    "sns.despine()"
   ]
  },
  {
   "cell_type": "code",
   "execution_count": 20,
   "metadata": {},
   "outputs": [
    {
     "data": {
      "image/png": "[encoded data removed]",
      "text/plain": [
       "<Figure size 432x288 with 1 Axes>"
      ]
     },
     "metadata": {
      "needs_background": "light"
     },
     "output_type": "display_data"
    }
   ],
   "source": [
    "plt.bar(metric['approach'],metric['Te_ce'])\n",
    "plt.xticks(rotation=90)\n",
    "sns.despine()"
   ]
  },
  {
   "cell_type": "markdown",
   "metadata": {},
   "source": [
    "MAE = s2p_gmlp_testing mc \\\n",
    "TRADEOFF = lstm_mlp_testing bs \\\n",
    "ECE = lstm_gmlp_testing mc"
   ]
  },
  {
   "cell_type": "code",
   "execution_count": 21,
   "metadata": {},
   "outputs": [],
   "source": [
    "idx1=4750\n",
    "idx2=5000"
   ]
  },
  {
   "cell_type": "code",
   "execution_count": 22,
   "metadata": {},
   "outputs": [],
   "source": [
    "timestamp = s2p_gmlp_testing[\"timestamp\"][idx1:idx2]"
   ]
  },
  {
   "cell_type": "code",
   "execution_count": 23,
   "metadata": {},
   "outputs": [],
   "source": [
    "timestamp = pd.to_datetime(timestamp).dt.strftime('%H:%M')"
   ]
  },
  {
   "cell_type": "code",
   "execution_count": 34,
   "metadata": {},
   "outputs": [],
   "source": [
    "def plot_figure(ax, y, mean, sigma, title):\n",
    "    ax.plot(timestamp, y[idx1:idx2], label=\"Y\")\n",
    "    ax.plot(timestamp, mean[idx1:idx2], label=\"Mean\")\n",
    "    ax.plot(timestamp, sigma[idx1:idx2], label=\"Sigma\")\n",
    "    ax.set_xticks(jnp.arange(0, idx2-idx1, 30), fontsize=2)\n",
    "    ax.tick_params(axis='x',rotation=60)\n",
    "    error = errors.mae(y.values, mean.values)\n",
    "    df = recalibration.find_p_hat(y, mean, sigma)\n",
    "    df=df.reset_index()\n",
    "    ax.set_title(f'{title} \\nMAE = {error:.2f}, ECE = {mae_(df):.2f}\\n')\n"
   ]
  },
  {
   "cell_type": "code",
   "execution_count": 39,
   "metadata": {},
   "outputs": [],
   "source": [
    "def plot_callibration(ax, y, mean, sigma):\n",
    "    off_idx = y <= 200\n",
    "    on_idx = y > 200\n",
    "    off_truth, off_mean, off_sigma = y[off_idx], mean[off_idx], sigma[off_idx]\n",
    "    on_truth, on_mean, on_sigma = y[on_idx], mean[on_idx], sigma[on_idx]\n",
    "\n",
    "    df = recalibration.find_p_hat(y, mean, sigma)\n",
    "    df=df.reset_index()\n",
    "    ax.plot(df[\"p\"], df[\"p_hat\"], \"--\", label=\"Total\")\n",
    "    total_error = mae_(df)\n",
    "\n",
    "    df = recalibration.find_p_hat(off_truth,  off_mean, off_sigma)\n",
    "    df=df.reset_index()\n",
    "    ax.plot(df[\"p\"], df[\"p_hat\"], \"--\", label=\"Off\")\n",
    "    off_error = mae_(df)\n",
    "\n",
    "    df = recalibration.find_p_hat(on_truth,  on_mean, on_sigma)\n",
    "    df=df.reset_index()\n",
    "    ax.plot(df[\"p\"], df[\"p_hat\"], \"--\", label=\"On\")\n",
    "    on_error = mae_(df)\n",
    "\n",
    "    ax.plot([0,1],[0,1], \"--\", color=\"black\", label=\"Ideal\")\n",
    "    ax.set_title(f'\\nOn ECE = {on_error:.4f}\\nOff ECE = {off_error:.4f}')"
   ]
  },
  {
   "cell_type": "code",
   "execution_count": 40,
   "metadata": {},
   "outputs": [],
   "source": [
    "latexify(fig_width=6.6, fig_height=4)"
   ]
  },
  {
   "cell_type": "code",
   "execution_count": 41,
   "metadata": {},
   "outputs": [
    {
     "name": "stderr",
     "output_type": "stream",
     "text": [
      "/tmp/ipykernel_779/1669252933.py:5: MatplotlibDeprecationWarning: Support for passing numbers through unit converters is deprecated since 3.5 and support will be removed two minor releases later; use Axis.convert_units instead.\n",
      "  ax.set_xticks(jnp.arange(0, idx2-idx1, 30), fontsize=2)\n",
      "/tmp/ipykernel_779/1669252933.py:5: MatplotlibDeprecationWarning: Support for passing numbers through unit converters is deprecated since 3.5 and support will be removed two minor releases later; use Axis.convert_units instead.\n",
      "  ax.set_xticks(jnp.arange(0, idx2-idx1, 30), fontsize=2)\n",
      "/tmp/ipykernel_779/1669252933.py:5: MatplotlibDeprecationWarning: Support for passing numbers through unit converters is deprecated since 3.5 and support will be removed two minor releases later; use Axis.convert_units instead.\n",
      "  ax.set_xticks(jnp.arange(0, idx2-idx1, 30), fontsize=2)\n"
     ]
    },
    {
     "name": "stdout",
     "output_type": "stream",
     "text": [
      "saving image to figures/best_error_dishwasher_latexified.pdf\n",
      "Figure size: [6.6 4. ]\n"
     ]
    },
    {
     "data": {
      "text/plain": [
       "<Figure size 475.2x288 with 0 Axes>"
      ]
     },
     "metadata": {},
     "output_type": "display_data"
    },
    {
     "data": {
      "image/png": "[encoded data removed]",
      "text/plain": [
       "<Figure size 475.2x288 with 6 Axes>"
      ]
     },
     "metadata": {
      "needs_background": "light"
     },
     "output_type": "display_data"
    }
   ],
   "source": [
    "plt.figure()\n",
    "fig, ax = plt.subplots(2, 3, sharey=\"row\")\n",
    "\n",
    "plot_figure(ax[0,0], s2p_gmlp_testing[\"ground truth\"], s2p_gmlp_testing[\"mc_mean\"], \n",
    "            s2p_gmlp_testing[\"mc_sigma\"], \"Hetero S2P MC\")\n",
    "plot_figure(ax[0,1], lstm_mlp_testing[\"ground truth\"], lstm_mlp_testing[\"bs_mean\"], \n",
    "            lstm_mlp_testing[\"bs_sigma\"], \"Homo LSTM BS\")\n",
    "plot_figure(ax[0,2], lstm_gmlp_testing[\"ground truth\"], lstm_gmlp_testing[\"mc_mean\"], \n",
    "            lstm_gmlp_testing[\"mc_sigma\"], \"Hetero LSTM MC\")\n",
    "\n",
    "plot_callibration(ax[1,0], s2p_gmlp_testing[\"ground truth\"], s2p_gmlp_testing[\"mc_mean\"], \n",
    "                  s2p_gmlp_testing[\"mc_sigma\"])\n",
    "plot_callibration(ax[1,1], lstm_mlp_testing[\"ground truth\"], lstm_mlp_testing[\"bs_mean\"], \n",
    "                  lstm_mlp_testing[\"bs_sigma\"])\n",
    "plot_callibration(ax[1,2], lstm_gmlp_testing[\"ground truth\"], lstm_gmlp_testing[\"mc_mean\"], \n",
    "                  lstm_gmlp_testing[\"mc_sigma\"])\n",
    "\n",
    "ax[0,0].legend([\"Ground\\nTruth\"], loc=\"upper left\", fontsize=6)\n",
    "line = mlines.Line2D([], [], color='C1', marker=\"_\", ls='', label='Mean', markersize=13,\n",
    "                    markeredgewidth=1.5)\n",
    "ax[0,1].legend(handles=[line], loc=\"upper left\", fontsize=6)\n",
    "line = mlines.Line2D([], [], color='green', marker=\"_\", ls='', label='Sigma', markersize=13,\n",
    "                    markeredgewidth=1.5)\n",
    "ax[0,2].legend(handles=[line], loc=\"upper left\", fontsize=6)\n",
    "\n",
    "ax[0,0].set_xlabel(\"(a)\")\n",
    "ax[0,1].set_xlabel(\"(b)\")\n",
    "ax[0,2].set_xlabel(\"(c)\")\n",
    "ax[1,0].set_xlabel(\"p\\n(d)\")\n",
    "ax[1,1].set_xlabel(\"p\\n(e)\")\n",
    "ax[1,2].set_xlabel(\"p\\n(f)\")\n",
    "\n",
    "ax[1,0].legend(fontsize=5, loc=\"upper left\")\n",
    "ax[0,0].set_ylabel(\"Power (W)\")\n",
    "ax[1,0].set_ylabel(\"$\\hat{p}$\")\n",
    "sns.despine()\n",
    "savefig(\"best_error_dishwasher\")"
   ]
  },
  {
   "cell_type": "code",
   "execution_count": null,
   "metadata": {},
   "outputs": [],
   "source": []
  },
  {
   "cell_type": "code",
   "execution_count": null,
   "metadata": {},
   "outputs": [],
   "source": []
  }
 ],
 "metadata": {
  "kernelspec": {
   "display_name": "Python 3.9.12 ('base')",
   "language": "python",
   "name": "python3"
  },
  "language_info": {
   "codemirror_mode": {
    "name": "ipython",
    "version": 3
   },
   "file_extension": ".py",
   "mimetype": "text/x-python",
   "name": "python",
   "nbconvert_exporter": "python",
   "pygments_lexer": "ipython3",
   "version": "3.9.12"
  },
  "orig_nbformat": 4,
  "vscode": {
   "interpreter": {
    "hash": "426e15868e84099aa24e2e1c7b02d116bea520d7179d867cd89f11c91c6cb720"
   }
  }
 },
 "nbformat": 4,
 "nbformat_minor": 2
}
