{
 "cells": [
  {
   "cell_type": "code",
   "execution_count": 1,
   "metadata": {},
   "outputs": [],
   "source": [
    "import os\n",
    "os.chdir('../../')"
   ]
  },
  {
   "cell_type": "code",
   "execution_count": 16,
   "metadata": {},
   "outputs": [],
   "source": [
    "import pandas as pd\n",
    "import matplotlib.pyplot as plt\n",
    "import seaborn as sns\n",
    "import jax.numpy as jnp\n",
    "\n",
    "from utilities import plot,errors\n",
    "from datetime import datetime\n",
    "\n",
    "import tensorflow_probability.substrates.jax as tfp\n",
    "import jax.numpy as jnp\n",
    "import jax\n",
    "dist = tfp.distributions\n",
    "from utilities import recalibration\n",
    "import numpy as np\n",
    "import matplotlib.lines as mlines\n",
    "import matplotlib.patches as mpatches"
   ]
  },
  {
   "cell_type": "code",
   "execution_count": 3,
   "metadata": {},
   "outputs": [],
   "source": [
    "from probml_utils import savefig, latexify\n",
    "os.environ['CUDA_VISIBLE_DEVICES']=str(2)\n",
    "os.environ['LATEXIFY']=\"1\"\n",
    "os.environ[\"FIG_DIR\"]='FIGURES'"
   ]
  },
  {
   "cell_type": "code",
   "execution_count": 4,
   "metadata": {},
   "outputs": [],
   "source": [
    "os.chdir('notebooks/dishwasher')"
   ]
  },
  {
   "cell_type": "code",
   "execution_count": 5,
   "metadata": {},
   "outputs": [],
   "source": [
    "\n",
    "s2p_mlp_training = pd.read_csv('s2p/mlp/training_predictions.csv')\n",
    "s2p_mlp_testing = pd.read_csv('s2p/mlp/testing_predictions.csv')\n",
    "s2p_gmlp_training = pd.read_csv('s2p/gmlp/training_predictions.csv')\n",
    "s2p_gmlp_testing = pd.read_csv('s2p/gmlp/testing_predictions.csv')"
   ]
  },
  {
   "cell_type": "code",
   "execution_count": 6,
   "metadata": {},
   "outputs": [],
   "source": [
    "lstm_mlp_training = pd.read_csv('lstm/mlp/training_predictions.csv')\n",
    "lstm_mlp_testing = pd.read_csv('lstm/mlp/testing_predictions.csv')\n",
    "lstm_gmlp_training = pd.read_csv('lstm/gmlp/training_predictions.csv')\n",
    "lstm_gmlp_testing = pd.read_csv('lstm/gmlp/testing_predictions.csv')\n"
   ]
  },
  {
   "cell_type": "code",
   "execution_count": 7,
   "metadata": {},
   "outputs": [],
   "source": [
    "\n",
    "s2p_mlp_recal = pd.read_csv('s2p/mlp/recalibration_df.csv')\n",
    "s2p_gmlp_recal = pd.read_csv('s2p/gmlp/recalibration_df.csv')\n",
    "lstm_mlp_recal=pd.read_csv('lstm/mlp/recalibration_df.csv')\n",
    "lstm_gmlp_recal=pd.read_csv('lstm/gmlp/recalibration_df.csv')"
   ]
  },
  {
   "cell_type": "code",
   "execution_count": 8,
   "metadata": {},
   "outputs": [],
   "source": [
    "s2p_mlp_training.columns = map(str.lower, s2p_mlp_training.columns)\n",
    "s2p_mlp_testing.columns = map(str.lower, s2p_mlp_testing.columns)\n",
    "s2p_gmlp_training.columns = map(str.lower, s2p_gmlp_training.columns)\n",
    "s2p_gmlp_testing.columns = map(str.lower, s2p_gmlp_testing.columns)\n",
    "lstm_mlp_training.columns = map(str.lower, lstm_mlp_training.columns)\n",
    "lstm_mlp_testing.columns = map(str.lower, lstm_mlp_testing.columns)\n",
    "lstm_gmlp_training.columns = map(str.lower, lstm_gmlp_training.columns)\n",
    "lstm_gmlp_testing.columns = map(str.lower, lstm_gmlp_testing.columns)"
   ]
  },
  {
   "cell_type": "code",
   "execution_count": 10,
   "metadata": {},
   "outputs": [],
   "source": [
    "os.chdir(\"../../\")"
   ]
  },
  {
   "cell_type": "code",
   "execution_count": 11,
   "metadata": {},
   "outputs": [],
   "source": [
    "latexify(fig_width=7, fig_height=1.5)"
   ]
  },
  {
   "cell_type": "code",
   "execution_count": 19,
   "metadata": {},
   "outputs": [],
   "source": [
    "def load_model(recab):\n",
    "    p=recab['p'].iloc[949]\n",
    "    new_p=recab['new_p_mc'].iloc[949]\n",
    "    ori_std_factor=recalibration.mass_to_std_factor(p)\n",
    "    new_std_factor=recalibration.mass_to_std_factor(new_p)\n",
    "    return ori_std_factor,new_std_factor\n",
    "\n",
    "def plot(timestamp, gt, mean, sigma, ori_std_factor, new_std_factor, idx1, idx2, p, p_hat, new_phat):\n",
    "    \n",
    "    fig,(ax1,ax2,ax3)=plt.subplots(1,3)\n",
    "    idx = jnp.where(\n",
    "        (gt.values < mean.values + ori_std_factor * sigma.values)\n",
    "        & (gt.values > mean.values - ori_std_factor * sigma.values)\n",
    "    )[0]\n",
    "    print(len(idx))\n",
    "    ax1.plot(timestamp, gt.values, label=\"Ground Truth\")\n",
    "    ax1.plot(timestamp, mean.values, label=\"Mean\",color=\"black\")\n",
    "    ax1.fill_between(\n",
    "        timestamp,\n",
    "        mean.values - ori_std_factor * sigma.values,\n",
    "        mean.values + ori_std_factor * sigma.values,\n",
    "        label=r\"95\\%\",\n",
    "        alpha=0.2,\n",
    "        color=\"C1\"\n",
    "    )\n",
    "    a=len(idx)\n",
    "    ax1.scatter(timestamp.values[np.array(idx)], gt[jnp.arange(idx1,idx2)[idx]], label=\"Within\", color=\"C1\",s=10)\n",
    "   \n",
    "    h = ax1.legend([\"Ground\\nTruth\", \"Mean\"], loc=\"upper right\", fontsize=6)\n",
    "    \n",
    "    ax1.set_xticks(jnp.arange(0, idx2-idx1, 10), fontsize=2)\n",
    "    ax1.tick_params(axis='x',rotation=90)\n",
    "\n",
    "    \n",
    "    idx = jnp.where(\n",
    "        (gt.values < mean.values + new_std_factor * sigma.values)\n",
    "        & (gt.values > mean.values - new_std_factor * sigma.values)\n",
    "    )[0]\n",
    "    print(len(idx))\n",
    "    b=len(idx)\n",
    "    ax2.plot(timestamp ,gt.values, label=\"Ground Truth\")\n",
    "    ax2.plot(timestamp, mean.values, label=\"Mean prediction\",color=\"black\")\n",
    "    ax2.fill_between(\n",
    "        timestamp,\n",
    "        mean.values - new_std_factor * sigma.values,\n",
    "        mean.values + new_std_factor * sigma.values,\n",
    "        #label=rf\"{100*mass:0.2f}% CI, $\\mu \\pm {std_factor:0.2f}\\sigma$\",\n",
    "        alpha=0.2,\n",
    "        color=\"C1\"\n",
    "    )\n",
    "    ax2.scatter(timestamp.values[np.array(idx)], gt[jnp.arange(idx1,idx2)[idx]], label=\"Within\", color=\"C1\",s=10)\n",
    "    ax2.set_xticks(jnp.arange(0, idx2-idx1, 10))\n",
    "    ax2.tick_params(axis='x',rotation=90)\n",
    "    red_patch = mpatches.Patch(color='C1',alpha=0.2, label='95\\%')\n",
    "    nine = mlines.Line2D([], [], color='C1', marker='o', ls='', label='Within', markersize=6)\n",
    "    h = ax2.legend(handles=[red_patch, nine], loc=\"upper right\", fontsize=6)\n",
    "\n",
    "\n",
    "    ax3.plot(p,p,\"--\",color=\"black\",label='ideal')\n",
    "    ax3.plot(p,p_hat,\"--\",label='Uncalibrated')\n",
    "    ax3.plot(p,new_phat,\"--\", label='Calibrated', color=\"green\")\n",
    "    ax3.legend(fontsize=6)\n",
    "    ax1.set_ylabel(\"Watt\")\n",
    "    ax3.set_ylabel(\"$\\hat{p}$\")\n",
    "    ax3.set_xlabel(\"p\")\n",
    "    plt.suptitle(f\"LSTM HOMO DE, Before: {a}\\%, After: {b}\\%\",fontweight=\"bold\")\n",
    "    ax1.set_ylabel(\"Watt\")\n",
    "    ax3.set_xlabel(\"p\")\n",
    "    ax3.set_ylabel(\"$\\hat{p}$\")\n",
    "    sns.despine()\n"
   ]
  },
  {
   "cell_type": "code",
   "execution_count": 20,
   "metadata": {},
   "outputs": [
    {
     "name": "stdout",
     "output_type": "stream",
     "text": [
      "14\n"
     ]
    },
    {
     "name": "stderr",
     "output_type": "stream",
     "text": [
      "/tmp/ipykernel_1330/3689094901.py:31: MatplotlibDeprecationWarning: Support for passing numbers through unit converters is deprecated since 3.5 and support will be removed two minor releases later; use Axis.convert_units instead.\n",
      "  ax1.set_xticks(jnp.arange(0, idx2-idx1, 10), fontsize=2)\n"
     ]
    },
    {
     "name": "stdout",
     "output_type": "stream",
     "text": [
      "26\n"
     ]
    },
    {
     "name": "stderr",
     "output_type": "stream",
     "text": [
      "/tmp/ipykernel_1330/3689094901.py:52: MatplotlibDeprecationWarning: Support for passing numbers through unit converters is deprecated since 3.5 and support will be removed two minor releases later; use Axis.convert_units instead.\n",
      "  ax2.set_xticks(jnp.arange(0, idx2-idx1, 10))\n"
     ]
    },
    {
     "name": "stdout",
     "output_type": "stream",
     "text": [
      "saving image to FIGURES/fill_between_dishwasher_latexified.pdf\n",
      "Figure size: [7.  1.5]\n"
     ]
    },
    {
     "data": {
      "image/png": "[encoded data removed]",
      "text/plain": [
       "<Figure size 504x108 with 3 Axes>"
      ]
     },
     "metadata": {
      "needs_background": "light"
     },
     "output_type": "display_data"
    }
   ],
   "source": [
    "recal=lstm_mlp_recal\n",
    "test=lstm_mlp_testing\n",
    "idx1=4850\n",
    "idx2=4940\n",
    "\n",
    "timestamp = lstm_gmlp_testing[\"timestamp\"][idx1:idx2]\n",
    "timestamp = pd.to_datetime(timestamp).dt.strftime('%H:%M')\n",
    "\n",
    "ori_std_factor,new_std_factor=load_model(recal)\n",
    "gt=test[\"ground truth\"][idx1:idx2]\n",
    "mean=test[\"de_mean\"][idx1:idx2]\n",
    "sigma=test[\"de_sigma\"][idx1:idx2]\n",
    "p,phat,new_phat=recal['p'].values,recal['phat_de'].values,recal['new_phat_de'].values\n",
    "plot(timestamp,gt,mean,sigma,ori_std_factor,new_std_factor,idx1,idx2,p,phat,new_phat)\n",
    "savefig(\"fill_between_dishwasher\", tight_bbox=True)"
   ]
  },
  {
   "cell_type": "code",
   "execution_count": null,
   "metadata": {},
   "outputs": [],
   "source": []
  },
  {
   "cell_type": "code",
   "execution_count": null,
   "metadata": {},
   "outputs": [],
   "source": []
  }
 ],
 "metadata": {
  "kernelspec": {
   "display_name": "Python 3.9.12 ('base')",
   "language": "python",
   "name": "python3"
  },
  "language_info": {
   "codemirror_mode": {
    "name": "ipython",
    "version": 3
   },
   "file_extension": ".py",
   "mimetype": "text/x-python",
   "name": "python",
   "nbconvert_exporter": "python",
   "pygments_lexer": "ipython3",
   "version": "3.9.12"
  },
  "orig_nbformat": 4,
  "vscode": {
   "interpreter": {
    "hash": "426e15868e84099aa24e2e1c7b02d116bea520d7179d867cd89f11c91c6cb720"
   }
  }
 },
 "nbformat": 4,
 "nbformat_minor": 2
}
