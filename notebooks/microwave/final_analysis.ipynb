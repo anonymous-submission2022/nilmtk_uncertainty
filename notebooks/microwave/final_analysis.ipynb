{
 "cells": [
  {
   "cell_type": "markdown",
   "metadata": {},
   "source": [
    "# Importing Libraries and predictions"
   ]
  },
  {
   "cell_type": "code",
   "execution_count": 1,
   "metadata": {},
   "outputs": [],
   "source": [
    "import os\n",
    "os.chdir(\"../../\")"
   ]
  },
  {
   "cell_type": "code",
   "execution_count": 2,
   "metadata": {},
   "outputs": [],
   "source": [
    "import pandas as pd\n",
    "import matplotlib.pyplot as plt\n",
    "import seaborn as sns\n",
    "import jax\n",
    "import jax.numpy as jnp\n",
    "from utilities import plot,errors,recalibration\n",
    "from datetime import datetime\n",
    "\n",
    "import tensorflow_probability.substrates.jax as tfp\n",
    "dist = tfp.distributions\n",
    "import matplotlib.lines as mlines\n",
    "import matplotlib.patches as mpatches"
   ]
  },
  {
   "cell_type": "code",
   "execution_count": 3,
   "metadata": {},
   "outputs": [],
   "source": [
    "from probml_utils import latexify,savefig"
   ]
  },
  {
   "cell_type": "code",
   "execution_count": 4,
   "metadata": {},
   "outputs": [
    {
     "name": "stdout",
     "output_type": "stream",
     "text": [
      "env: LATEXIFY=1\n",
      "env: FIG_DIR=figures/\n"
     ]
    }
   ],
   "source": [
    "%env LATEXIFY=1\n",
    "%env FIG_DIR=figures/"
   ]
  },
  {
   "cell_type": "code",
   "execution_count": 5,
   "metadata": {},
   "outputs": [],
   "source": [
    "os.chdir('notebooks/microwave')"
   ]
  },
  {
   "cell_type": "code",
   "execution_count": 6,
   "metadata": {},
   "outputs": [],
   "source": [
    "s2p_mlp_training = pd.read_csv('s2p/mlp/training_predictions.csv')\n",
    "s2p_mlp_testing = pd.read_csv('s2p/mlp/testing_predictions.csv')\n",
    "s2p_gmlp_training = pd.read_csv('s2p/gmlp/training_predictions.csv')\n",
    "s2p_gmlp_testing = pd.read_csv('s2p/gmlp/testing_predictions.csv')"
   ]
  },
  {
   "cell_type": "code",
   "execution_count": 7,
   "metadata": {},
   "outputs": [],
   "source": [
    "lstm_mlp_training = pd.read_csv('lstm/mlp/training_predictions.csv')\n",
    "lstm_mlp_testing = pd.read_csv('lstm/mlp/testing_predictions.csv')\n",
    "lstm_gmlp_training = pd.read_csv('lstm/gmlp/training_predictions.csv')\n",
    "lstm_gmlp_testing = pd.read_csv('lstm/gmlp/testing_predictions.csv')"
   ]
  },
  {
   "cell_type": "code",
   "execution_count": 8,
   "metadata": {},
   "outputs": [],
   "source": [
    "s2p_mlp_recal = pd.read_csv('s2p/mlp/recalibration_df.csv')\n",
    "s2p_gmlp_recal = pd.read_csv('s2p/gmlp/recalibration_df.csv')\n",
    "lstm_mlp_recal=pd.read_csv('lstm/mlp/recalibration_df.csv')\n",
    "lstm_gmlp_recal=pd.read_csv('lstm/gmlp/recalibration_df.csv')"
   ]
  },
  {
   "cell_type": "code",
   "execution_count": 9,
   "metadata": {},
   "outputs": [],
   "source": [
    "s2p_mlp_training.columns = map(str.lower, s2p_mlp_training.columns)\n",
    "s2p_mlp_testing.columns = map(str.lower, s2p_mlp_testing.columns)\n",
    "s2p_gmlp_training.columns = map(str.lower, s2p_gmlp_training.columns)\n",
    "s2p_gmlp_testing.columns = map(str.lower, s2p_gmlp_testing.columns)"
   ]
  },
  {
   "cell_type": "code",
   "execution_count": 10,
   "metadata": {},
   "outputs": [],
   "source": [
    "lstm_mlp_training.columns = map(str.lower, lstm_mlp_training.columns)\n",
    "lstm_mlp_testing.columns = map(str.lower, lstm_mlp_testing.columns)\n",
    "lstm_gmlp_training.columns = map(str.lower, lstm_gmlp_training.columns)\n",
    "lstm_gmlp_testing.columns = map(str.lower, lstm_gmlp_testing.columns)"
   ]
  },
  {
   "cell_type": "code",
   "execution_count": 11,
   "metadata": {},
   "outputs": [],
   "source": [
    "os.chdir(\"../../\")"
   ]
  },
  {
   "cell_type": "markdown",
   "metadata": {},
   "source": [
    "# Define Functions"
   ]
  },
  {
   "cell_type": "code",
   "execution_count": 12,
   "metadata": {},
   "outputs": [],
   "source": [
    "\n",
    "def rmse_(dataframe):\n",
    "    def rmse_loss(y,yhat):\n",
    "      return (y-yhat)**2\n",
    "    return jnp.mean(jax.vmap(rmse_loss,in_axes=(0,0))(dataframe['Ideal'].values,dataframe['Counts'].values))\n",
    "def mae_(dataframe):\n",
    "    def mae(y,yhat):\n",
    "      return jnp.abs(y-yhat)\n",
    "    return jnp.mean(jax.vmap(mae,in_axes=(0,0))(dataframe['p'].values,dataframe['p_hat'].values))\n",
    "def mae1(y,yhat):\n",
    "    def mae(y,yhat):\n",
    "      return jnp.abs(y-yhat)\n",
    "    return jnp.mean(jax.vmap(mae,in_axes=(0,0))(y,yhat))\n",
    "def NLL(mean,sigma,y):\n",
    "    def loss_fn(mean, sigma, y):\n",
    "      d = dist.Normal(loc=mean, scale=sigma)\n",
    "      return -d.log_prob(y)\n",
    "    return jnp.mean(jax.vmap(loss_fn, in_axes=(0, 0, 0))(mean, sigma, y))\n",
    "\n",
    "def plot_predictions(y_true,mean,sigma):\n",
    "    idx1 = 0\n",
    "    idx2 = -1\n",
    "    fig, ax = plt.subplots(2, 2, figsize=(18,10))\n",
    "    ax = ax.ravel()\n",
    "    ax[0].plot(y_true[idx1:idx2], label=\"True\")\n",
    "    ax[1].plot(mean[idx1:idx2], label=f\"$\\mu$ Predicted\", color=\"orange\")\n",
    "    ax[2].plot(y_true[idx1:idx2], label=\"True\")\n",
    "    ax[2].plot(mean[idx1:idx2], label=f\"$\\mu$ Predicted\", color=\"orange\")\n",
    "    #ax[3].plot(y_true[idx1:idx2], label=\"True\", alpha=0.7)\n",
    "    ax[3].plot(sigma[idx1:idx2], label=f\"$\\sigma$ Predicted\", color=\"green\")\n",
    "    ax[0].legend(fontsize=15, bbox_to_anchor=(0.5,1))\n",
    "    ax[1].legend(fontsize=15, bbox_to_anchor=(0.5,1))\n",
    "    ax[2].legend(fontsize=15, bbox_to_anchor=(0.5,1))\n",
    "    ax[3].legend(fontsize=15, bbox_to_anchor=(0.5,1))\n",
    "    sns.despine()\n"
   ]
  },
  {
   "cell_type": "code",
   "execution_count": 13,
   "metadata": {},
   "outputs": [],
   "source": [
    "import scipy.stats as st\n",
    "def calibrate(mean, sigma, Y):\n",
    "    df = pd.DataFrame()\n",
    "    df[\"mean\"] = mean\n",
    "    df[\"sigma\"] = sigma\n",
    "    df[\"Y\"] = Y\n",
    "    df[\"z\"] = (df[\"Y\"] - df[\"mean\"]) / df[\"sigma\"]\n",
    "    df[\"perc\"] = st.norm.cdf(df[\"z\"])\n",
    "    k = jnp.arange(0, 1.1, 0.1)\n",
    "    counts = []\n",
    "    df2 = pd.DataFrame()\n",
    "    df2[\"Interval\"] = k\n",
    "    df2[\"Ideal\"] = k\n",
    "    for i in range(0, 11):\n",
    "        l = df[df[\"perc\"] < 0.5 + i * 0.05]\n",
    "        l = l[l[\"perc\"] >= 0.5 - i * 0.05]\n",
    "        counts.append(len(l) / len(df))\n",
    "    df2[\"Counts\"] = counts\n",
    "    return df2"
   ]
  },
  {
   "cell_type": "code",
   "execution_count": 14,
   "metadata": {},
   "outputs": [],
   "source": [
    "def calculate_errors(tr_df, te_df, recal_df):\n",
    "    for i,j in zip(grp, grp2):\n",
    "        try:\n",
    "            q = tr_df[i+'sigma']\n",
    "            tr_nll.append(errors.NLL(tr_df[i+'mean'].values,tr_df[i+'sigma'].values,tr_df['ground truth'].values))\n",
    "            te_nll.append(errors.NLL(te_df[i+'mean'].values,te_df[i+'sigma'].values,te_df['ground truth'].values))\n",
    "            df =  recalibration.find_p_hat(tr_df['ground truth'].values,tr_df[i+'mean'].values,tr_df[i+'sigma'].values) \n",
    "            df=df.reset_index()\n",
    "            tr_ce.append(mae_(df))\n",
    "            df1 =  recalibration.find_p_hat(te_df['ground truth'].values,te_df[i+'mean'].values,te_df[i+'sigma'].values) \n",
    "            df1=df1.reset_index()\n",
    "            te_ce.append(mae_(df1))\n",
    "            te_rce.append(mae1(recal_df['p'].values,recal_df['new_phat'+j].values))\n",
    "            \n",
    "        except KeyError:\n",
    "            # print(KeyError.args)\n",
    "            tr_nll.append(0)\n",
    "            te_nll.append(0)\n",
    "            tr_ce.append(0)\n",
    "            # tr_l2_ce.append(0)\n",
    "            te_ce.append(0)\n",
    "            te_rce.append(0)\n",
    "            # te_l2_ce.append(0)\n",
    "            # pass\n",
    "            \n",
    "\n",
    "def calculate_rmse(tr_df,te_df):\n",
    "    for i in grp:\n",
    "        tr_rmse.append((errors.rmse(tr_df['ground truth'].values,tr_df[i+'mean'].values)))\n",
    "        te_rmse.append((errors.rmse(te_df['ground truth'].values,te_df[i+'mean'].values)))\n",
    "        tr_mae.append((errors.mae(tr_df['ground truth'].values,tr_df[i+'mean'].values)))\n",
    "        te_mae.append((errors.mae(te_df['ground truth'].values,te_df[i+'mean'].values)))\n"
   ]
  },
  {
   "cell_type": "markdown",
   "metadata": {},
   "source": [
    "# Table"
   ]
  },
  {
   "cell_type": "code",
   "execution_count": 15,
   "metadata": {},
   "outputs": [],
   "source": [
    "metric  =pd.DataFrame({'approach':[],'Tr_mae':[],'Te_mae':[],'Tr_rmse':[],'Te_rmse':[],'Tr_nll':[],'Te_nll':[],\n",
    "'Tr_ce':[],'Te_ce':[],'Te_rce':[]})\n",
    "row1 = {'approach':['s2p','s2p+mc','s2p+de','s2p+bs','gs2p','gs2p+mc','gs2p+de','gs2p+bs',\n",
    "'lstm','lstm+mc','lstm+de','lstm+bs','glstm','glstm+mc','glstm+de','glstm+bs']}\n",
    "grp = ['','mc_','de_','bs_']\n",
    "grp2 = ['','_mc','_de','_bs']\n",
    "tr_rmse,te_rmse = [],[]\n",
    "tr_mae,te_mae = [],[]\n",
    "tr_nll,te_nll = [],[]\n",
    "tr_ce,te_ce,te_rce = [],[],[]\n",
    "row1 = pd.DataFrame(row1)\n",
    "metric = pd.concat([metric,row1],ignore_index=True)\n"
   ]
  },
  {
   "cell_type": "code",
   "execution_count": 16,
   "metadata": {},
   "outputs": [
    {
     "name": "stderr",
     "output_type": "stream",
     "text": [
      "WARNING:absl:No GPU/TPU found, falling back to CPU. (Set TF_CPP_MIN_LOG_LEVEL=0 and rerun for more info.)\n"
     ]
    }
   ],
   "source": [
    "calculate_rmse(s2p_mlp_training,s2p_mlp_testing)\n",
    "calculate_rmse(s2p_gmlp_training,s2p_gmlp_testing)\n",
    "calculate_rmse(lstm_mlp_training,lstm_mlp_testing)\n",
    "calculate_rmse(lstm_gmlp_training,lstm_gmlp_testing)\n",
    "calculate_errors(s2p_mlp_training,s2p_mlp_testing,s2p_mlp_recal)\n",
    "calculate_errors(s2p_gmlp_training,s2p_gmlp_testing,s2p_gmlp_recal)\n",
    "calculate_errors(lstm_mlp_training,lstm_mlp_testing,lstm_mlp_recal)\n",
    "calculate_errors(lstm_gmlp_training,lstm_gmlp_testing,lstm_gmlp_recal)\n",
    "metric['Tr_rmse']=tr_rmse\n",
    "metric['Te_rmse']=te_rmse\n",
    "metric['Tr_mae']=tr_mae\n",
    "metric['Te_mae']=te_mae\n",
    "metric['Tr_nll']=tr_nll\n",
    "metric['Te_nll']=te_nll\n",
    "metric['Tr_ce']=tr_ce\n",
    "metric['Te_ce']=te_ce\t\n",
    "metric['Te_rce']=te_rce\t\n",
    "\t"
   ]
  },
  {
   "cell_type": "code",
   "execution_count": 17,
   "metadata": {},
   "outputs": [
    {
     "data": {
      "text/html": [
       "<div>\n",
       "<style scoped>\n",
       "    .dataframe tbody tr th:only-of-type {\n",
       "        vertical-align: middle;\n",
       "    }\n",
       "\n",
       "    .dataframe tbody tr th {\n",
       "        vertical-align: top;\n",
       "    }\n",
       "\n",
       "    .dataframe thead th {\n",
       "        text-align: right;\n",
       "    }\n",
       "</style>\n",
       "<table border=\"1\" class=\"dataframe\">\n",
       "  <thead>\n",
       "    <tr style=\"text-align: right;\">\n",
       "      <th></th>\n",
       "      <th>approach</th>\n",
       "      <th>Tr_mae</th>\n",
       "      <th>Te_mae</th>\n",
       "      <th>Tr_rmse</th>\n",
       "      <th>Te_rmse</th>\n",
       "      <th>Tr_nll</th>\n",
       "      <th>Te_nll</th>\n",
       "      <th>Tr_ce</th>\n",
       "      <th>Te_ce</th>\n",
       "      <th>Te_rce</th>\n",
       "    </tr>\n",
       "  </thead>\n",
       "  <tbody>\n",
       "    <tr>\n",
       "      <th>0</th>\n",
       "      <td>s2p</td>\n",
       "      <td>2.6634378</td>\n",
       "      <td>11.185808</td>\n",
       "      <td>21.998465</td>\n",
       "      <td>79.72997</td>\n",
       "      <td>0</td>\n",
       "      <td>0</td>\n",
       "      <td>0</td>\n",
       "      <td>0</td>\n",
       "      <td>0</td>\n",
       "    </tr>\n",
       "    <tr>\n",
       "      <th>1</th>\n",
       "      <td>s2p+mc</td>\n",
       "      <td>2.728726</td>\n",
       "      <td>11.174248</td>\n",
       "      <td>21.450102</td>\n",
       "      <td>79.869736</td>\n",
       "      <td>6002372000000.0</td>\n",
       "      <td>611580000000000.0</td>\n",
       "      <td>0.4707669</td>\n",
       "      <td>0.4779978</td>\n",
       "      <td>0.45367864</td>\n",
       "    </tr>\n",
       "    <tr>\n",
       "      <th>2</th>\n",
       "      <td>s2p+de</td>\n",
       "      <td>2.1759636</td>\n",
       "      <td>11.16834</td>\n",
       "      <td>14.281735</td>\n",
       "      <td>78.379105</td>\n",
       "      <td>14.269382</td>\n",
       "      <td>1716.842</td>\n",
       "      <td>0.39734286</td>\n",
       "      <td>0.43984994</td>\n",
       "      <td>0.35460818</td>\n",
       "    </tr>\n",
       "    <tr>\n",
       "      <th>3</th>\n",
       "      <td>s2p+bs</td>\n",
       "      <td>2.9391656</td>\n",
       "      <td>11.254164</td>\n",
       "      <td>24.874496</td>\n",
       "      <td>77.65649</td>\n",
       "      <td>2.0234873</td>\n",
       "      <td>151.13048</td>\n",
       "      <td>0.17084645</td>\n",
       "      <td>0.30711654</td>\n",
       "      <td>0.17777275</td>\n",
       "    </tr>\n",
       "    <tr>\n",
       "      <th>4</th>\n",
       "      <td>gs2p</td>\n",
       "      <td>7.6596737</td>\n",
       "      <td>12.463739</td>\n",
       "      <td>88.40875</td>\n",
       "      <td>101.65248</td>\n",
       "      <td>1.4506961</td>\n",
       "      <td>95.31384</td>\n",
       "      <td>0.06553617</td>\n",
       "      <td>0.030832961</td>\n",
       "      <td>0.07791727</td>\n",
       "    </tr>\n",
       "    <tr>\n",
       "      <th>5</th>\n",
       "      <td>gs2p+mc</td>\n",
       "      <td>7.4150567</td>\n",
       "      <td>12.560314</td>\n",
       "      <td>88.67215</td>\n",
       "      <td>101.86559</td>\n",
       "      <td>1.2347395</td>\n",
       "      <td>135.65884</td>\n",
       "      <td>0.13754135</td>\n",
       "      <td>0.08390924</td>\n",
       "      <td>0.18627793</td>\n",
       "    </tr>\n",
       "    <tr>\n",
       "      <th>6</th>\n",
       "      <td>gs2p+de</td>\n",
       "      <td>14.125846</td>\n",
       "      <td>12.524833</td>\n",
       "      <td>89.10583</td>\n",
       "      <td>101.0336</td>\n",
       "      <td>2.3728287</td>\n",
       "      <td>35.2812</td>\n",
       "      <td>0.15533061</td>\n",
       "      <td>0.1393589</td>\n",
       "      <td>0.07405773</td>\n",
       "    </tr>\n",
       "    <tr>\n",
       "      <th>7</th>\n",
       "      <td>gs2p+bs</td>\n",
       "      <td>8.017901</td>\n",
       "      <td>13.274323</td>\n",
       "      <td>88.26325</td>\n",
       "      <td>101.55706</td>\n",
       "      <td>2.9592628</td>\n",
       "      <td>6.9476523</td>\n",
       "      <td>0.38589036</td>\n",
       "      <td>0.15928474</td>\n",
       "      <td>0.35608548</td>\n",
       "    </tr>\n",
       "    <tr>\n",
       "      <th>8</th>\n",
       "      <td>lstm</td>\n",
       "      <td>7.3846245</td>\n",
       "      <td>16.769403</td>\n",
       "      <td>43.665623</td>\n",
       "      <td>88.36018</td>\n",
       "      <td>0</td>\n",
       "      <td>0</td>\n",
       "      <td>0</td>\n",
       "      <td>0</td>\n",
       "      <td>0</td>\n",
       "    </tr>\n",
       "    <tr>\n",
       "      <th>9</th>\n",
       "      <td>lstm+mc</td>\n",
       "      <td>7.420004</td>\n",
       "      <td>16.7785</td>\n",
       "      <td>43.671787</td>\n",
       "      <td>88.369156</td>\n",
       "      <td>121.93306</td>\n",
       "      <td>2197.4915</td>\n",
       "      <td>0.27544808</td>\n",
       "      <td>0.4374076</td>\n",
       "      <td>0.2570262</td>\n",
       "    </tr>\n",
       "    <tr>\n",
       "      <th>10</th>\n",
       "      <td>lstm+de</td>\n",
       "      <td>6.888012</td>\n",
       "      <td>15.606329</td>\n",
       "      <td>45.865765</td>\n",
       "      <td>87.89608</td>\n",
       "      <td>8.167196</td>\n",
       "      <td>160.63335</td>\n",
       "      <td>0.18633878</td>\n",
       "      <td>0.34257656</td>\n",
       "      <td>0.16755366</td>\n",
       "    </tr>\n",
       "    <tr>\n",
       "      <th>11</th>\n",
       "      <td>lstm+bs</td>\n",
       "      <td>6.811283</td>\n",
       "      <td>14.801954</td>\n",
       "      <td>44.811184</td>\n",
       "      <td>87.75913</td>\n",
       "      <td>3.6772795</td>\n",
       "      <td>84.455666</td>\n",
       "      <td>0.04244632</td>\n",
       "      <td>0.11785355</td>\n",
       "      <td>0.15101917</td>\n",
       "    </tr>\n",
       "    <tr>\n",
       "      <th>12</th>\n",
       "      <td>glstm</td>\n",
       "      <td>10.509117</td>\n",
       "      <td>12.822943</td>\n",
       "      <td>88.24223</td>\n",
       "      <td>100.96016</td>\n",
       "      <td>2.3483367</td>\n",
       "      <td>33.754257</td>\n",
       "      <td>0.04879786</td>\n",
       "      <td>0.030422183</td>\n",
       "      <td>0.06475981</td>\n",
       "    </tr>\n",
       "    <tr>\n",
       "      <th>13</th>\n",
       "      <td>glstm+mc</td>\n",
       "      <td>10.2806425</td>\n",
       "      <td>13.389369</td>\n",
       "      <td>88.3367</td>\n",
       "      <td>101.10761</td>\n",
       "      <td>2.288581</td>\n",
       "      <td>37.0834</td>\n",
       "      <td>0.06581871</td>\n",
       "      <td>0.22055258</td>\n",
       "      <td>0.3001598</td>\n",
       "    </tr>\n",
       "    <tr>\n",
       "      <th>14</th>\n",
       "      <td>glstm+de</td>\n",
       "      <td>9.69665</td>\n",
       "      <td>12.728931</td>\n",
       "      <td>88.42333</td>\n",
       "      <td>101.49183</td>\n",
       "      <td>2.4596174</td>\n",
       "      <td>31.078848</td>\n",
       "      <td>0.06454825</td>\n",
       "      <td>0.043144338</td>\n",
       "      <td>0.03830996</td>\n",
       "    </tr>\n",
       "    <tr>\n",
       "      <th>15</th>\n",
       "      <td>glstm+bs</td>\n",
       "      <td>10.346578</td>\n",
       "      <td>12.795326</td>\n",
       "      <td>86.88784</td>\n",
       "      <td>99.67595</td>\n",
       "      <td>2.4321504</td>\n",
       "      <td>26.222084</td>\n",
       "      <td>0.21202964</td>\n",
       "      <td>0.04029967</td>\n",
       "      <td>0.19418637</td>\n",
       "    </tr>\n",
       "  </tbody>\n",
       "</table>\n",
       "</div>"
      ],
      "text/plain": [
       "    approach      Tr_mae     Te_mae    Tr_rmse    Te_rmse           Tr_nll  \\\n",
       "0        s2p   2.6634378  11.185808  21.998465   79.72997                0   \n",
       "1     s2p+mc    2.728726  11.174248  21.450102  79.869736  6002372000000.0   \n",
       "2     s2p+de   2.1759636   11.16834  14.281735  78.379105        14.269382   \n",
       "3     s2p+bs   2.9391656  11.254164  24.874496   77.65649        2.0234873   \n",
       "4       gs2p   7.6596737  12.463739   88.40875  101.65248        1.4506961   \n",
       "5    gs2p+mc   7.4150567  12.560314   88.67215  101.86559        1.2347395   \n",
       "6    gs2p+de   14.125846  12.524833   89.10583   101.0336        2.3728287   \n",
       "7    gs2p+bs    8.017901  13.274323   88.26325  101.55706        2.9592628   \n",
       "8       lstm   7.3846245  16.769403  43.665623   88.36018                0   \n",
       "9    lstm+mc    7.420004    16.7785  43.671787  88.369156        121.93306   \n",
       "10   lstm+de    6.888012  15.606329  45.865765   87.89608         8.167196   \n",
       "11   lstm+bs    6.811283  14.801954  44.811184   87.75913        3.6772795   \n",
       "12     glstm   10.509117  12.822943   88.24223  100.96016        2.3483367   \n",
       "13  glstm+mc  10.2806425  13.389369    88.3367  101.10761         2.288581   \n",
       "14  glstm+de     9.69665  12.728931   88.42333  101.49183        2.4596174   \n",
       "15  glstm+bs   10.346578  12.795326   86.88784   99.67595        2.4321504   \n",
       "\n",
       "               Te_nll       Tr_ce        Te_ce      Te_rce  \n",
       "0                   0           0            0           0  \n",
       "1   611580000000000.0   0.4707669    0.4779978  0.45367864  \n",
       "2            1716.842  0.39734286   0.43984994  0.35460818  \n",
       "3           151.13048  0.17084645   0.30711654  0.17777275  \n",
       "4            95.31384  0.06553617  0.030832961  0.07791727  \n",
       "5           135.65884  0.13754135   0.08390924  0.18627793  \n",
       "6             35.2812  0.15533061    0.1393589  0.07405773  \n",
       "7           6.9476523  0.38589036   0.15928474  0.35608548  \n",
       "8                   0           0            0           0  \n",
       "9           2197.4915  0.27544808    0.4374076   0.2570262  \n",
       "10          160.63335  0.18633878   0.34257656  0.16755366  \n",
       "11          84.455666  0.04244632   0.11785355  0.15101917  \n",
       "12          33.754257  0.04879786  0.030422183  0.06475981  \n",
       "13            37.0834  0.06581871   0.22055258   0.3001598  \n",
       "14          31.078848  0.06454825  0.043144338  0.03830996  \n",
       "15          26.222084  0.21202964   0.04029967  0.19418637  "
      ]
     },
     "execution_count": 17,
     "metadata": {},
     "output_type": "execute_result"
    }
   ],
   "source": [
    "metric"
   ]
  },
  {
   "cell_type": "markdown",
   "metadata": {},
   "source": [
    "# Analysis"
   ]
  },
  {
   "cell_type": "code",
   "execution_count": 18,
   "metadata": {},
   "outputs": [
    {
     "data": {
      "image/png": "[encoded data removed]",
      "text/plain": [
       "<Figure size 432x288 with 1 Axes>"
      ]
     },
     "metadata": {
      "needs_background": "light"
     },
     "output_type": "display_data"
    }
   ],
   "source": [
    "plt.bar(metric['approach'],metric['Te_mae'])\n",
    "# plt.bar(metric['approach'],metric['Te_l1_ce'])\n",
    "plt.xticks(rotation=90)\n",
    "sns.despine()"
   ]
  },
  {
   "cell_type": "code",
   "execution_count": 19,
   "metadata": {},
   "outputs": [
    {
     "data": {
      "image/png": "[encoded data removed]",
      "text/plain": [
       "<Figure size 432x288 with 1 Axes>"
      ]
     },
     "metadata": {
      "needs_background": "light"
     },
     "output_type": "display_data"
    }
   ],
   "source": [
    "plt.bar(metric['approach'],metric['Te_ce'])\n",
    "plt.xticks(rotation=90)\n",
    "sns.despine()"
   ]
  },
  {
   "cell_type": "markdown",
   "metadata": {},
   "source": [
    "MAE = s2p_mlp_testing de \\\n",
    "TRADEOFF = lstm_mlp_testing bs \\\n",
    "ECE = s2p_gmlp_testing simple "
   ]
  },
  {
   "cell_type": "code",
   "execution_count": 20,
   "metadata": {},
   "outputs": [],
   "source": [
    "idx1=2675\n",
    "idx2=2750"
   ]
  },
  {
   "cell_type": "code",
   "execution_count": 21,
   "metadata": {},
   "outputs": [],
   "source": [
    "timestamp = s2p_gmlp_testing[\"timestamp\"][idx1:idx2]"
   ]
  },
  {
   "cell_type": "code",
   "execution_count": 22,
   "metadata": {},
   "outputs": [],
   "source": [
    "timestamp = pd.to_datetime(timestamp).dt.strftime('%H:%M')"
   ]
  },
  {
   "cell_type": "code",
   "execution_count": 23,
   "metadata": {},
   "outputs": [],
   "source": [
    "def plot_figure(ax, y, mean, sigma, title):\n",
    "    ax.plot(timestamp, y[idx1:idx2], label=\"Y\")\n",
    "    ax.plot(timestamp, mean[idx1:idx2], label=\"Mean\")\n",
    "    ax.plot(timestamp, sigma[idx1:idx2], label=\"Sigma\")\n",
    "    ax.set_xticks(jnp.arange(0, idx2-idx1, 30), fontsize=2)\n",
    "    ax.tick_params(axis='x',rotation=60)\n",
    "    error = errors.mae(y.values, mean.values)\n",
    "    df = recalibration.find_p_hat(y, mean, sigma)\n",
    "    df=df.reset_index()\n",
    "    ax.set_title(f'{title} \\nMAE = {error:.2f}, ECE = {mae_(df):.2f}\\n')\n"
   ]
  },
  {
   "cell_type": "code",
   "execution_count": 24,
   "metadata": {},
   "outputs": [],
   "source": [
    "def plot_callibration(ax, y, mean, sigma):\n",
    "    off_idx = y <= 200\n",
    "    on_idx = y > 200\n",
    "    off_truth, off_mean, off_sigma = y[off_idx], mean[off_idx], sigma[off_idx]\n",
    "    on_truth, on_mean, on_sigma = y[on_idx], mean[on_idx], sigma[on_idx]\n",
    "\n",
    "    df = recalibration.find_p_hat(y, mean, sigma)\n",
    "    df=df.reset_index()\n",
    "    ax.plot(df[\"p\"], df[\"p_hat\"], \"--\", label=\"Total\")\n",
    "    total_error = mae_(df)\n",
    "\n",
    "    df = recalibration.find_p_hat(off_truth,  off_mean, off_sigma)\n",
    "    df=df.reset_index()\n",
    "    ax.plot(df[\"p\"], df[\"p_hat\"], \"--\", label=\"Off\")\n",
    "    off_error = mae_(df)\n",
    "\n",
    "    df = recalibration.find_p_hat(on_truth,  on_mean, on_sigma)\n",
    "    df=df.reset_index()\n",
    "    ax.plot(df[\"p\"], df[\"p_hat\"], \"--\", label=\"On\")\n",
    "    on_error = mae_(df)\n",
    "\n",
    "    ax.plot([0,1],[0,1], \"--\", color=\"black\", label=\"Ideal\")\n",
    "    ax.set_title(f'\\nOn ECE = {on_error:.4f}\\nOff ECE = {off_error:.4f}')"
   ]
  },
  {
   "cell_type": "code",
   "execution_count": 25,
   "metadata": {},
   "outputs": [],
   "source": [
    "latexify(fig_width=6.6,fig_height=4)"
   ]
  },
  {
   "cell_type": "code",
   "execution_count": 26,
   "metadata": {},
   "outputs": [
    {
     "name": "stderr",
     "output_type": "stream",
     "text": [
      "/tmp/ipykernel_1023/1669252933.py:5: MatplotlibDeprecationWarning: Support for passing numbers through unit converters is deprecated since 3.5 and support will be removed two minor releases later; use Axis.convert_units instead.\n",
      "  ax.set_xticks(jnp.arange(0, idx2-idx1, 30), fontsize=2)\n",
      "/tmp/ipykernel_1023/1669252933.py:5: MatplotlibDeprecationWarning: Support for passing numbers through unit converters is deprecated since 3.5 and support will be removed two minor releases later; use Axis.convert_units instead.\n",
      "  ax.set_xticks(jnp.arange(0, idx2-idx1, 30), fontsize=2)\n",
      "/tmp/ipykernel_1023/1669252933.py:5: MatplotlibDeprecationWarning: Support for passing numbers through unit converters is deprecated since 3.5 and support will be removed two minor releases later; use Axis.convert_units instead.\n",
      "  ax.set_xticks(jnp.arange(0, idx2-idx1, 30), fontsize=2)\n"
     ]
    },
    {
     "name": "stdout",
     "output_type": "stream",
     "text": [
      "saving image to figures/best_error_microwave_latexified.pdf\n"
     ]
    },
    {
     "name": "stderr",
     "output_type": "stream",
     "text": [
      "/home/rohit_khoiwal/anaconda3/lib/python3.9/site-packages/probml_utils/plotting.py:93: UserWarning: This figure was using constrained_layout, but that is incompatible with subplots_adjust and/or tight_layout; disabling constrained_layout.\n",
      "  plt.tight_layout(pad=pad_inches)\n"
     ]
    },
    {
     "name": "stdout",
     "output_type": "stream",
     "text": [
      "Figure size: [6.6 4. ]\n"
     ]
    },
    {
     "data": {
      "text/plain": [
       "<Figure size 475.2x288 with 0 Axes>"
      ]
     },
     "metadata": {},
     "output_type": "display_data"
    },
    {
     "data": {
      "image/png": "[encoded data removed]",
      "text/plain": [
       "<Figure size 475.2x288 with 6 Axes>"
      ]
     },
     "metadata": {
      "needs_background": "light"
     },
     "output_type": "display_data"
    }
   ],
   "source": [
    "plt.figure()\n",
    "fig, ax = plt.subplots(2, 3, sharey=\"row\", constrained_layout = True)\n",
    "\n",
    "plot_figure(ax[0,0], s2p_mlp_testing[\"ground truth\"], s2p_mlp_testing[\"de_mean\"], \n",
    "            s2p_mlp_testing[\"de_sigma\"], \"Homo S2P DE\")\n",
    "plot_figure(ax[0,1], lstm_mlp_testing[\"ground truth\"], lstm_mlp_testing[\"bs_mean\"], \n",
    "            lstm_mlp_testing[\"bs_sigma\"], \"Homo LSTM BS\")\n",
    "plot_figure(ax[0,2], s2p_gmlp_testing[\"ground truth\"], s2p_gmlp_testing[\"mean\"], \n",
    "            s2p_gmlp_testing[\"sigma\"], \"Hetero S2P NN\")\n",
    "\n",
    "plot_callibration(ax[1,0], s2p_mlp_testing[\"ground truth\"], s2p_mlp_testing[\"de_mean\"], \n",
    "                  s2p_mlp_testing[\"de_sigma\"])\n",
    "plot_callibration(ax[1,1], lstm_mlp_testing[\"ground truth\"], lstm_mlp_testing[\"bs_mean\"], \n",
    "                  lstm_mlp_testing[\"bs_sigma\"])\n",
    "plot_callibration(ax[1,2], s2p_gmlp_testing[\"ground truth\"], s2p_gmlp_testing[\"mean\"], \n",
    "                  s2p_gmlp_testing[\"sigma\"])\n",
    "ax[0,0].legend([\"Ground\\nTruth\"], loc=\"upper left\", fontsize=6)\n",
    "line = mlines.Line2D([], [], color='C1', marker=\"_\", ls='', label='Mean', markersize=13,\n",
    "                    markeredgewidth=1.5)\n",
    "ax[0,1].legend(handles=[line], loc=\"upper left\", fontsize=6)\n",
    "line = mlines.Line2D([], [], color='green', marker=\"_\", ls='', label='Sigma', markersize=13,\n",
    "                    markeredgewidth=1.5)\n",
    "ax[0,2].legend(handles=[line], loc=\"upper left\", fontsize=6)\n",
    "\n",
    "ax[0,0].set_xlabel(\"(a)\")\n",
    "ax[0,1].set_xlabel(\"(b)\")\n",
    "ax[0,2].set_xlabel(\"(c)\")\n",
    "ax[1,0].set_xlabel(\"p\\n(d)\")\n",
    "ax[1,1].set_xlabel(\"p\\n(e)\")\n",
    "ax[1,2].set_xlabel(\"p\\n(f)\")\n",
    "\n",
    "ax[1,0].legend(fontsize=5, loc=\"upper left\")\n",
    "ax[0,0].set_ylabel(\"Power (W)\")\n",
    "ax[1,0].set_ylabel(\"$\\hat{p}$\")\n",
    "sns.despine()\n",
    "savefig(\"best_error_microwave\")"
   ]
  },
  {
   "cell_type": "code",
   "execution_count": null,
   "metadata": {},
   "outputs": [],
   "source": []
  },
  {
   "cell_type": "code",
   "execution_count": null,
   "metadata": {},
   "outputs": [],
   "source": []
  }
 ],
 "metadata": {
  "kernelspec": {
   "display_name": "Python 3.9.12 ('base')",
   "language": "python",
   "name": "python3"
  },
  "language_info": {
   "codemirror_mode": {
    "name": "ipython",
    "version": 3
   },
   "file_extension": ".py",
   "mimetype": "text/x-python",
   "name": "python",
   "nbconvert_exporter": "python",
   "pygments_lexer": "ipython3",
   "version": "3.9.12"
  },
  "orig_nbformat": 4,
  "vscode": {
   "interpreter": {
    "hash": "426e15868e84099aa24e2e1c7b02d116bea520d7179d867cd89f11c91c6cb720"
   }
  }
 },
 "nbformat": 4,
 "nbformat_minor": 2
}
